{
 "cells": [
  {
   "cell_type": "markdown",
   "id": "5f9143cd",
   "metadata": {},
   "source": [
    "### GOOGLE ADS DATA ANALYTICS SALES DATASET"
   ]
  },
  {
   "cell_type": "markdown",
   "id": "7764b04b",
   "metadata": {},
   "source": [
    "#### IMPORT THE NECESSARY LIBRARIES"
   ]
  },
  {
   "cell_type": "code",
   "execution_count": 41,
   "id": "41bf60f6",
   "metadata": {},
   "outputs": [
    {
     "name": "stdout",
     "output_type": "stream",
     "text": [
      "    Ad_ID          Campaign_Name  Clicks  Impressions     Cost  Leads  \\\n",
      "0   A1000    DataAnalyticsCourse   104.0       4498.0  $231.88   14.0   \n",
      "1   A1001    DataAnalyticsCourse   173.0       5107.0  $216.84   10.0   \n",
      "2   A1002    Data Anlytics Corse    90.0       4544.0  $203.66   26.0   \n",
      "3   A1003  Data Analytcis Course   142.0       3185.0  $237.66   17.0   \n",
      "4   A1004   Data Analytics Corse   156.0       3361.0   $195.9   30.0   \n",
      "5   A1005    DataAnalyticsCourse   195.0       3776.0  $243.57   10.0   \n",
      "6   A1006   Data Analytics Corse   116.0       4480.0  $237.79   17.0   \n",
      "7   A1007   Data Analytics Corse   184.0       5060.0  $229.61   23.0   \n",
      "8   A1008   Data Analytics Corse   113.0       5434.0      NaN   27.0   \n",
      "9   A1009  Data Analytcis Course   166.0       3355.0  $186.78   24.0   \n",
      "10  A1010    DataAnalyticsCourse   101.0       5399.0  $236.79   20.0   \n",
      "11  A1011   Data Analytics Corse   101.0       3613.0  $208.12   24.0   \n",
      "12  A1012  Data Analytcis Course   125.0       3259.0   $191.3   18.0   \n",
      "13  A1013   Data Analytics Corse   196.0       3742.0  $207.46   10.0   \n",
      "14  A1014  Data Analytcis Course   181.0       4311.0  $185.09   11.0   \n",
      "15  A1015  Data Analytcis Course   102.0       5461.0  $201.69   22.0   \n",
      "16  A1016  Data Analytcis Course   193.0       5159.0      NaN   15.0   \n",
      "17  A1017    Data Anlytics Corse   149.0       4431.0   $207.4   19.0   \n",
      "18  A1018   Data Analytics Corse   150.0       3113.0  $217.41   20.0   \n",
      "19  A1019  Data Analytcis Course   145.0       5278.0      NaN   25.0   \n",
      "\n",
      "    Conversions  Conversion Rate Sale_Amount     Ad_Date   Location   Device  \\\n",
      "0           7.0            0.058       $1892  2024-11-16  hyderabad  desktop   \n",
      "1           8.0            0.046       $1679  20-11-2024  hyderabad   mobile   \n",
      "2           9.0              NaN       $1624  2024/11/16  hyderabad  Desktop   \n",
      "3           6.0              NaN       $1225  2024-11-26  HYDERABAD   tablet   \n",
      "4           8.0              NaN       $1091  2024-11-22  hyderabad  desktop   \n",
      "5           8.0              NaN       $1315  16-11-2024  hyderabad   MOBILE   \n",
      "6           5.0            0.043       $1640  06-11-2024  hyderabad   TABLET   \n",
      "7           3.0            0.016       $1509  2024/11/24   Hyderbad   TABLET   \n",
      "8           4.0            0.058       $1362  2024/11/24   Hyderbad   Tablet   \n",
      "9           9.0            0.054       $1029  2024/11/12   Hyderbad   Mobile   \n",
      "10          6.0            0.059       $1900  14-11-2024  HYDERABAD  DESKTOP   \n",
      "11          5.0            0.050       $1130  2024/11/22  hyderabad  Desktop   \n",
      "12          3.0            0.024       $1959  2024/11/27   hydrebad  DESKTOP   \n",
      "13          7.0            0.038       $1623  12-11-2024  hyderabad   mobile   \n",
      "14          9.0            0.050       $1538  2024-11-04   Hyderbad  Desktop   \n",
      "15          8.0            0.078       $1755  2024-11-29  hyderabad  desktop   \n",
      "16          9.0            0.047       $1614  2024-11-10   hydrebad   Mobile   \n",
      "17          9.0            0.060       $1693  12-11-2024  HYDERABAD   mobile   \n",
      "18          5.0              NaN       $1785  2024/11/07  hyderabad   Mobile   \n",
      "19          6.0            0.041       $1516  2024-11-05  hyderabad  DESKTOP   \n",
      "\n",
      "                   Keyword  \n",
      "0     learn data analytics  \n",
      "1    data analytics course  \n",
      "2    data analitics online  \n",
      "3   data anaytics training  \n",
      "4     online data analytic  \n",
      "5   data anaytics training  \n",
      "6    data analytics course  \n",
      "7       analytics for data  \n",
      "8   data anaytics training  \n",
      "9     online data analytic  \n",
      "10    learn data analytics  \n",
      "11    online data analytic  \n",
      "12   data analitics online  \n",
      "13  data anaytics training  \n",
      "14  data anaytics training  \n",
      "15   data analytics course  \n",
      "16    learn data analytics  \n",
      "17    learn data analytics  \n",
      "18      analytics for data  \n",
      "19   data analytics course  \n"
     ]
    }
   ],
   "source": [
    "#IMPORTING LIBRARIES\n",
    "\n",
    "import pandas as pd\n",
    "import numpy as np\n",
    "import matplotlib.pyplot as plt\n",
    "import seaborn as sns\n",
    "\n",
    "#\n",
    "df=pd.read_csv(r\"D:\\DATASCIENCE\\NOTES\\pandas notes\\PROJECT\\GoogleAds_DataAnalytics_Sales_Uncleaned.csv\")\n",
    "print(df.head(20))"
   ]
  },
  {
   "cell_type": "markdown",
   "id": "5f611679",
   "metadata": {},
   "source": [
    "### DATE FORMAT CORRECTION"
   ]
  },
  {
   "cell_type": "code",
   "execution_count": 42,
   "id": "44ca488f",
   "metadata": {},
   "outputs": [
    {
     "name": "stdout",
     "output_type": "stream",
     "text": [
      "Successfully parsed dates: 2600\n",
      "Failed to parse (NaT): 0\n",
      "\n",
      "Sample parsed dates:\n",
      "0   2024-11-16\n",
      "1   2024-11-20\n",
      "2   2024-11-16\n",
      "3   2024-11-26\n",
      "4   2024-11-22\n",
      "5   2024-11-16\n",
      "6   2024-11-06\n",
      "7   2024-11-24\n",
      "8   2024-11-24\n",
      "9   2024-11-12\n",
      "Name: Ad_Date, dtype: datetime64[ns]\n"
     ]
    }
   ],
   "source": [
    "# FIRST: Parse dates BEFORE any other transformations\n",
    "def parse_mixed_dates(date_str):\n",
    "    if pd.isna(date_str):\n",
    "        return pd.NaT\n",
    "    \n",
    "    date_str = str(date_str).strip()\n",
    "    \n",
    "    if not date_str or date_str.lower() == 'nan':\n",
    "        return pd.NaT\n",
    "    \n",
    "    try:\n",
    "        # Try dd-mm-yyyy format (29-11-2024)\n",
    "        return pd.to_datetime(date_str, format='%d-%m-%Y')\n",
    "    except ValueError:\n",
    "        try:\n",
    "            # Try yyyy/mm/dd format (2024/11/28)  \n",
    "            return pd.to_datetime(date_str, format='%Y/%m/%d')\n",
    "        except ValueError:\n",
    "            try:\n",
    "                # Try yyyy-mm-dd format (2024-11-02)\n",
    "                return pd.to_datetime(date_str, format='%Y-%m-%d')\n",
    "            except ValueError:\n",
    "                return pd.to_datetime(date_str, errors='coerce')\n",
    "\n",
    "# Parse dates from the ORIGINAL data\n",
    "df['Ad_Date'] = df['Ad_Date'].apply(parse_mixed_dates)\n",
    "\n",
    "print(f\"Successfully parsed dates: {df['Ad_Date'].notna().sum()}\")\n",
    "print(f\"Failed to parse (NaT): {df['Ad_Date'].isna().sum()}\")\n",
    "print(f\"\\nSample parsed dates:\")\n",
    "print(df['Ad_Date'].head(10))"
   ]
  },
  {
   "cell_type": "markdown",
   "id": "67017e5e",
   "metadata": {},
   "source": [
    "### CHECKING DATA TYPES"
   ]
  },
  {
   "cell_type": "code",
   "execution_count": 3,
   "id": "118c9edd",
   "metadata": {},
   "outputs": [
    {
     "name": "stdout",
     "output_type": "stream",
     "text": [
      "Ad_ID               object\n",
      "Campaign_Name       object\n",
      "Clicks             float64\n",
      "Impressions        float64\n",
      "Cost                object\n",
      "Leads              float64\n",
      "Conversions        float64\n",
      "Conversion Rate    float64\n",
      "Sale_Amount         object\n",
      "Ad_Date             object\n",
      "Location            object\n",
      "Device              object\n",
      "Keyword             object\n",
      "dtype: object\n"
     ]
    }
   ],
   "source": [
    "print(df.dtypes)"
   ]
  },
  {
   "cell_type": "markdown",
   "id": "03530345",
   "metadata": {},
   "source": [
    "### DESCRIBE"
   ]
  },
  {
   "cell_type": "code",
   "execution_count": null,
   "id": "c75fcb65",
   "metadata": {},
   "outputs": [],
   "source": [
    "#TO DESCRIBE THE DATA\n",
    "print(df.describe)"
   ]
  },
  {
   "cell_type": "markdown",
   "id": "068a1d35",
   "metadata": {},
   "source": [
    "### INFO"
   ]
  },
  {
   "cell_type": "code",
   "execution_count": null,
   "id": "2f01aa99",
   "metadata": {},
   "outputs": [],
   "source": [
    "#TO GET THE INFORMATION ABOUT THE DATA\n",
    "print(df.info)"
   ]
  },
  {
   "cell_type": "markdown",
   "id": "5af1eab6",
   "metadata": {},
   "source": [
    "### DUPLICATES"
   ]
  },
  {
   "cell_type": "code",
   "execution_count": 32,
   "id": "0c658f09",
   "metadata": {},
   "outputs": [
    {
     "name": "stdout",
     "output_type": "stream",
     "text": [
      "<bound method DataFrame.duplicated of       Ad_ID          Campaign_Name  Clicks  Impressions     Cost  Leads  \\\n",
      "0     A1000    DataAnalyticsCourse   104.0       4498.0  $231.88   14.0   \n",
      "1     A1001    DataAnalyticsCourse   173.0       5107.0  $216.84   10.0   \n",
      "2     A1002    Data Anlytics Corse    90.0       4544.0  $203.66   26.0   \n",
      "3     A1003  Data Analytcis Course   142.0       3185.0  $237.66   17.0   \n",
      "4     A1004   Data Analytics Corse   156.0       3361.0   $195.9   30.0   \n",
      "...     ...                    ...     ...          ...      ...    ...   \n",
      "2595  A3595    DataAnalyticsCourse    88.0       5344.0  $242.07   17.0   \n",
      "2596  A3596    DataAnalyticsCourse   154.0       3211.0  $248.28   14.0   \n",
      "2597  A3597    Data Anlytics Corse   113.0       3808.0  $233.25   18.0   \n",
      "2598  A3598   Data Analytics Corse   196.0       5853.0  $220.13   16.0   \n",
      "2599  A3599   Data Analytics Corse     NaN       5453.0      NaN   12.0   \n",
      "\n",
      "      Conversions  Conversion Rate Sale_Amount     Ad_Date   Location  \\\n",
      "0             7.0            0.058       $1892  2024-11-16  hyderabad   \n",
      "1             8.0            0.046       $1679  20-11-2024  hyderabad   \n",
      "2             9.0              NaN       $1624  2024/11/16  hyderabad   \n",
      "3             6.0              NaN       $1225  2024-11-26  HYDERABAD   \n",
      "4             8.0              NaN       $1091  2024-11-22  hyderabad   \n",
      "...           ...              ...         ...         ...        ...   \n",
      "2595          9.0            0.054       $1418  29-11-2024  HYDERABAD   \n",
      "2596          6.0            0.039       $1950  2024/11/28  hyderabad   \n",
      "2597          4.0            0.035       $1085  2024-11-02   Hyderbad   \n",
      "2598          7.0            0.036       $1558  2024-11-08   hydrebad   \n",
      "2599          5.0              NaN       $1174  2024/11/22  HYDERABAD   \n",
      "\n",
      "       Device                 Keyword  \n",
      "0     desktop    learn data analytics  \n",
      "1      mobile   data analytics course  \n",
      "2     Desktop   data analitics online  \n",
      "3      tablet  data anaytics training  \n",
      "4     desktop    online data analytic  \n",
      "...       ...                     ...  \n",
      "2595   MOBILE    online data analytic  \n",
      "2596   TABLET   data analitics online  \n",
      "2597  desktop  data anaytics training  \n",
      "2598   Tablet  data anaytics training  \n",
      "2599  desktop      analytics for data  \n",
      "\n",
      "[2600 rows x 13 columns]>\n"
     ]
    }
   ],
   "source": [
    "#TO FIND THE DUPLICATED VALUES\n",
    "print(df.duplicated)"
   ]
  },
  {
   "cell_type": "markdown",
   "id": "4ecc571e",
   "metadata": {},
   "source": [
    "### CHECKING THE FIRST 5 ROWS"
   ]
  },
  {
   "cell_type": "code",
   "execution_count": 33,
   "id": "a5d474e4",
   "metadata": {},
   "outputs": [
    {
     "name": "stdout",
     "output_type": "stream",
     "text": [
      "   Ad_ID          Campaign_Name  Clicks  Impressions     Cost  Leads  \\\n",
      "0  A1000    DataAnalyticsCourse   104.0       4498.0  $231.88   14.0   \n",
      "1  A1001    DataAnalyticsCourse   173.0       5107.0  $216.84   10.0   \n",
      "2  A1002    Data Anlytics Corse    90.0       4544.0  $203.66   26.0   \n",
      "3  A1003  Data Analytcis Course   142.0       3185.0  $237.66   17.0   \n",
      "4  A1004   Data Analytics Corse   156.0       3361.0   $195.9   30.0   \n",
      "\n",
      "   Conversions  Conversion Rate Sale_Amount     Ad_Date   Location   Device  \\\n",
      "0          7.0            0.058       $1892  2024-11-16  hyderabad  desktop   \n",
      "1          8.0            0.046       $1679  20-11-2024  hyderabad   mobile   \n",
      "2          9.0              NaN       $1624  2024/11/16  hyderabad  Desktop   \n",
      "3          6.0              NaN       $1225  2024-11-26  HYDERABAD   tablet   \n",
      "4          8.0              NaN       $1091  2024-11-22  hyderabad  desktop   \n",
      "\n",
      "                  Keyword  \n",
      "0    learn data analytics  \n",
      "1   data analytics course  \n",
      "2   data analitics online  \n",
      "3  data anaytics training  \n",
      "4    online data analytic  \n"
     ]
    }
   ],
   "source": [
    "#CHECKING THE FIRST 5 ROWS\n",
    "print(df.head())"
   ]
  },
  {
   "cell_type": "markdown",
   "id": "0fb62ebb",
   "metadata": {},
   "source": [
    "### CHECKING THE LAST 5 ROWS"
   ]
  },
  {
   "cell_type": "code",
   "execution_count": 4,
   "id": "d505eeb1",
   "metadata": {},
   "outputs": [
    {
     "name": "stdout",
     "output_type": "stream",
     "text": [
      "      Ad_ID         Campaign_Name  Clicks  Impressions     Cost  Leads  \\\n",
      "2595  A3595   DataAnalyticsCourse    88.0       5344.0  $242.07   17.0   \n",
      "2596  A3596   DataAnalyticsCourse   154.0       3211.0  $248.28   14.0   \n",
      "2597  A3597   Data Anlytics Corse   113.0       3808.0  $233.25   18.0   \n",
      "2598  A3598  Data Analytics Corse   196.0       5853.0  $220.13   16.0   \n",
      "2599  A3599  Data Analytics Corse     NaN       5453.0      NaN   12.0   \n",
      "\n",
      "      Conversions  Conversion Rate Sale_Amount     Ad_Date   Location  \\\n",
      "2595          9.0            0.054       $1418  29-11-2024  HYDERABAD   \n",
      "2596          6.0            0.039       $1950  2024/11/28  hyderabad   \n",
      "2597          4.0            0.035       $1085  2024-11-02   Hyderbad   \n",
      "2598          7.0            0.036       $1558  2024-11-08   hydrebad   \n",
      "2599          5.0              NaN       $1174  2024/11/22  HYDERABAD   \n",
      "\n",
      "       Device                 Keyword  \n",
      "2595   MOBILE    online data analytic  \n",
      "2596   TABLET   data analitics online  \n",
      "2597  desktop  data anaytics training  \n",
      "2598   Tablet  data anaytics training  \n",
      "2599  desktop      analytics for data  \n"
     ]
    }
   ],
   "source": [
    "#check the last 5 rows\n",
    "print(df.tail())"
   ]
  },
  {
   "cell_type": "markdown",
   "id": "f44d369f",
   "metadata": {},
   "source": [
    "### CHECKING THE TOTAL NUMBER OF MISSING VALUES"
   ]
  },
  {
   "cell_type": "code",
   "execution_count": 5,
   "id": "af616fa1",
   "metadata": {},
   "outputs": [
    {
     "name": "stdout",
     "output_type": "stream",
     "text": [
      "Ad_ID                0\n",
      "Campaign_Name        0\n",
      "Clicks             112\n",
      "Impressions         54\n",
      "Cost                97\n",
      "Leads               48\n",
      "Conversions         74\n",
      "Conversion Rate    626\n",
      "Sale_Amount        139\n",
      "Ad_Date              0\n",
      "Location             0\n",
      "Device               0\n",
      "Keyword              0\n",
      "dtype: int64\n",
      "\n",
      "\n",
      "Total number of missing values : 1150\n"
     ]
    }
   ],
   "source": [
    "#checking the total number of missing values\n",
    "print(df.isna().sum())\n",
    "print('\\n')\n",
    "print(\"Total number of missing values :\",df.isna().sum().sum())"
   ]
  },
  {
   "cell_type": "markdown",
   "id": "132a7548",
   "metadata": {},
   "source": [
    "### DATA PROCESSING"
   ]
  },
  {
   "cell_type": "markdown",
   "id": "38700b7a",
   "metadata": {},
   "source": [
    "### CONVERTING MONEY VALUE FROM DOLLAR($) TO INR(₹)"
   ]
  },
  {
   "cell_type": "code",
   "execution_count": 43,
   "id": "59af5ef2",
   "metadata": {},
   "outputs": [
    {
     "name": "stdout",
     "output_type": "stream",
     "text": [
      "Ad_ID                      object\n",
      "Campaign_Name              object\n",
      "Clicks                    float64\n",
      "Impressions               float64\n",
      "Cost                      float64\n",
      "Leads                     float64\n",
      "Conversions               float64\n",
      "Conversion Rate           float64\n",
      "Sale_Amount               float64\n",
      "Ad_Date            datetime64[ns]\n",
      "Location                   object\n",
      "Device                     object\n",
      "Keyword                    object\n",
      "dtype: object\n",
      "\n",
      "\n",
      "   Ad_ID          Campaign_Name  Clicks  Impressions      Cost  Leads  \\\n",
      "0  A1000    DataAnalyticsCourse   104.0       4498.0  19246.04   14.0   \n",
      "1  A1001    DataAnalyticsCourse   173.0       5107.0  17997.72   10.0   \n",
      "2  A1002    Data Anlytics Corse    90.0       4544.0  16903.78   26.0   \n",
      "3  A1003  Data Analytcis Course   142.0       3185.0  19725.78   17.0   \n",
      "4  A1004   Data Analytics Corse   156.0       3361.0  16259.70   30.0   \n",
      "\n",
      "   Conversions  Conversion Rate  Sale_Amount    Ad_Date   Location   Device  \\\n",
      "0          7.0            0.058     157036.0 2024-11-16  hyderabad  desktop   \n",
      "1          8.0            0.046     139357.0 2024-11-20  hyderabad   mobile   \n",
      "2          9.0              NaN     134792.0 2024-11-16  hyderabad  Desktop   \n",
      "3          6.0              NaN     101675.0 2024-11-26  HYDERABAD   tablet   \n",
      "4          8.0              NaN      90553.0 2024-11-22  hyderabad  desktop   \n",
      "\n",
      "                  Keyword  \n",
      "0    learn data analytics  \n",
      "1   data analytics course  \n",
      "2   data analitics online  \n",
      "3  data anaytics training  \n",
      "4    online data analytic  \n"
     ]
    }
   ],
   "source": [
    "#CONERTING  COST & SALE_AMOUNT COLUMN FROM  DOALLAR TO INR\n",
    "df['Cost'] = df['Cost'].str.replace('$', '', regex=False)\n",
    "df['Cost'] = df['Cost'].astype(float) * 83\n",
    "df['Sale_Amount'] = df['Sale_Amount'].str.replace('$', '', regex=False).astype(float)\n",
    "df['Sale_Amount'] = df['Sale_Amount'] * 83\n",
    "\n",
    "print(df.dtypes)\n",
    "print('\\n')\n",
    "print(df.head())"
   ]
  },
  {
   "cell_type": "markdown",
   "id": "fa8cca8e",
   "metadata": {},
   "source": [
    "### RENAMING THE COLUMNS"
   ]
  },
  {
   "cell_type": "code",
   "execution_count": 44,
   "id": "95df0124",
   "metadata": {},
   "outputs": [
    {
     "name": "stdout",
     "output_type": "stream",
     "text": [
      "Index(['AD_ID', 'CAMPAIGN_NAME', 'CLICKS', 'IMPRESSIONS', 'COST', 'LEADS',\n",
      "       'CONVERSIONS', 'CONVERSION RATE', 'SALE_AMOUNT', 'AD_DATE', 'LOCATION',\n",
      "       'DEVICE', 'KEYWORD'],\n",
      "      dtype='object')\n"
     ]
    }
   ],
   "source": [
    "#RENAMING THE COLUMNS\n",
    "#------------------------\n",
    "\n",
    "df.rename(columns={\n",
    "    'Ad_ID': 'AD_ID',\n",
    "    'Campaign_Name': 'CAMPAIGN_NAME',\n",
    "    'Clicks': 'CLICKS',\n",
    "    'Impressions': 'IMPRESSIONS',\n",
    "    'Cost': 'COST',\n",
    "    'Leads': 'LEADS',\n",
    "    'Conversions': 'CONVERSIONS',\n",
    "    'Conversion Rate': 'CONVERSION RATE',\n",
    "    'Sale_Amount': 'SALE_AMOUNT',\n",
    "    'Ad_Date': 'AD_DATE',\n",
    "    'Location': 'LOCATION',\n",
    "    'Device': 'DEVICE',\n",
    "    'Keyword': 'KEYWORD'\n",
    "}, inplace=True)\n",
    "\n",
    "print(df.columns)"
   ]
  },
  {
   "cell_type": "markdown",
   "id": "af0c7753",
   "metadata": {},
   "source": [
    "### DATA CLEANING\n"
   ]
  },
  {
   "cell_type": "markdown",
   "id": "2f0bd833",
   "metadata": {},
   "source": [
    "### CHANGING THE VALUES INTO SAME FORMAT "
   ]
  },
  {
   "cell_type": "code",
   "execution_count": 45,
   "id": "c7ea2f91",
   "metadata": {},
   "outputs": [],
   "source": [
    "# # CHANGING THE VALUES INTO SAME FORMAT(lowercase letters)\n",
    "text_columns = ['CAMPAIGN_NAME', 'LOCATION', 'DEVICE', 'KEYWORD']\n",
    "for col in text_columns:\n",
    "    if col in df.columns:\n",
    "        df[col] = df[col].astype(str).str.lower()"
   ]
  },
  {
   "cell_type": "markdown",
   "id": "1229b9c1",
   "metadata": {},
   "source": [
    "### FILLING THE MISSING NUMERIC COLUMNS WITH 0 (except convertion rate)"
   ]
  },
  {
   "cell_type": "code",
   "execution_count": 46,
   "id": "35c793b2",
   "metadata": {},
   "outputs": [
    {
     "name": "stdout",
     "output_type": "stream",
     "text": [
      "AD_ID                      object\n",
      "CAMPAIGN_NAME              object\n",
      "CLICKS                    float64\n",
      "IMPRESSIONS               float64\n",
      "COST                      float64\n",
      "LEADS                     float64\n",
      "CONVERSIONS               float64\n",
      "CONVERSION RATE           float64\n",
      "SALE_AMOUNT               float64\n",
      "AD_DATE            datetime64[ns]\n",
      "LOCATION                   object\n",
      "DEVICE                     object\n",
      "KEYWORD                    object\n",
      "dtype: object\n",
      "\n",
      "\n",
      "   AD_ID          CAMPAIGN_NAME  CLICKS  IMPRESSIONS      COST  LEADS  \\\n",
      "0  A1000    dataanalyticscourse   104.0       4498.0  19246.04   14.0   \n",
      "1  A1001    dataanalyticscourse   173.0       5107.0  17997.72   10.0   \n",
      "2  A1002    data anlytics corse    90.0       4544.0  16903.78   26.0   \n",
      "3  A1003  data analytcis course   142.0       3185.0  19725.78   17.0   \n",
      "4  A1004   data analytics corse   156.0       3361.0  16259.70   30.0   \n",
      "\n",
      "   CONVERSIONS  CONVERSION RATE  SALE_AMOUNT    AD_DATE   LOCATION   DEVICE  \\\n",
      "0          7.0            0.058     157036.0 2024-11-16  hyderabad  desktop   \n",
      "1          8.0            0.046     139357.0 2024-11-20  hyderabad   mobile   \n",
      "2          9.0              NaN     134792.0 2024-11-16  hyderabad  desktop   \n",
      "3          6.0              NaN     101675.0 2024-11-26  hyderabad   tablet   \n",
      "4          8.0              NaN      90553.0 2024-11-22  hyderabad  desktop   \n",
      "\n",
      "                  KEYWORD  \n",
      "0    learn data analytics  \n",
      "1   data analytics course  \n",
      "2   data analitics online  \n",
      "3  data anaytics training  \n",
      "4    online data analytic  \n",
      "\n",
      "\n",
      "      AD_ID         CAMPAIGN_NAME  CLICKS  IMPRESSIONS      COST  LEADS  \\\n",
      "2595  A3595   dataanalyticscourse    88.0       5344.0  20091.81   17.0   \n",
      "2596  A3596   dataanalyticscourse   154.0       3211.0  20607.24   14.0   \n",
      "2597  A3597   data anlytics corse   113.0       3808.0  19359.75   18.0   \n",
      "2598  A3598  data analytics corse   196.0       5853.0  18270.79   16.0   \n",
      "2599  A3599  data analytics corse     0.0       5453.0      0.00   12.0   \n",
      "\n",
      "      CONVERSIONS  CONVERSION RATE  SALE_AMOUNT    AD_DATE   LOCATION  \\\n",
      "2595          9.0            0.054     117694.0 2024-11-29  hyderabad   \n",
      "2596          6.0            0.039     161850.0 2024-11-28  hyderabad   \n",
      "2597          4.0            0.035      90055.0 2024-11-02   hyderbad   \n",
      "2598          7.0            0.036     129314.0 2024-11-08   hydrebad   \n",
      "2599          5.0              NaN      97442.0 2024-11-22  hyderabad   \n",
      "\n",
      "       DEVICE                 KEYWORD  \n",
      "2595   mobile    online data analytic  \n",
      "2596   tablet   data analitics online  \n",
      "2597  desktop  data anaytics training  \n",
      "2598   tablet  data anaytics training  \n",
      "2599  desktop      analytics for data  \n"
     ]
    }
   ],
   "source": [
    "\n",
    "#(fill the missing numeric columns with 0 except convertion rate )\n",
    "df['CLICKS'] = df['CLICKS'].fillna(0)\n",
    "df['IMPRESSIONS'] = df['IMPRESSIONS'].fillna(0)\n",
    "df['COST'] = df['COST'].fillna(0)\n",
    "df['CONVERSIONS'] = df['CONVERSIONS'].fillna(0)\n",
    "\n",
    "\n",
    "print(df.dtypes)\n",
    "print('\\n')\n",
    "print(df.head())\n",
    "print('\\n')\n",
    "print(df.tail())"
   ]
  },
  {
   "cell_type": "code",
   "execution_count": 47,
   "id": "ed5f08be",
   "metadata": {},
   "outputs": [],
   "source": [
    "# Calculate profit\n",
    "df['PROFIT'] = df['SALE_AMOUNT'] - df['COST']"
   ]
  },
  {
   "cell_type": "markdown",
   "id": "bc2dc2a2",
   "metadata": {},
   "source": [
    "### DATA UNDERSTANDING"
   ]
  },
  {
   "cell_type": "markdown",
   "id": "3471fb1b",
   "metadata": {},
   "source": [
    "#### 1.KEY WORD PERFOMANCE CHECKING\n",
    "\n",
    "##### To find which keyword performed best for this campign (highest conversion/best conversion rate)"
   ]
  },
  {
   "cell_type": "code",
   "execution_count": 15,
   "id": "56cbb4d9",
   "metadata": {},
   "outputs": [
    {
     "name": "stdout",
     "output_type": "stream",
     "text": [
      "                         CLICKS  IMPRESSIONS   LEADS  SALE_AMOUNT\n",
      "KEYWORD                                                          \n",
      "learn data analytics    58698.0    1920160.0  8777.0   53398797.0\n",
      "data analytics course   59369.0    1966691.0  8673.0   52682009.0\n",
      "online data analytic    60920.0    1995193.0  8803.0   52171891.0\n",
      "analytics for data      56021.0    1950444.0  8604.0   50815007.0\n",
      "data anaytics training  54786.0    1835565.0  8008.0   48973320.0\n",
      "data analitics online   55931.0    1848220.0  8185.0   48077335.0\n",
      "\n",
      " high profit generated keyword KEYWORD\n",
      "learn data analytics      46013842.95\n",
      "data analytics course     45508278.33\n",
      "online data analytic      44838781.24\n",
      "analytics for data        43785252.28\n",
      "data anaytics training    42237884.11\n",
      "data analitics online     41526043.74\n",
      "Name: high_profit_kw, dtype: float64\n"
     ]
    }
   ],
   "source": [
    "#TO FIND... which keyword performed best for this campign (highest conversion/best conversion rate)\n",
    "\n",
    "keyword_perf=df.groupby('KEYWORD')[['CLICKS','IMPRESSIONS','LEADS','SALE_AMOUNT']].sum().sort_values('SALE_AMOUNT',ascending=False)\n",
    "print(keyword_perf)\n",
    "df['high_profit_kw']=df['SALE_AMOUNT']-df['COST']\n",
    "profit_kw=df.groupby('KEYWORD')['high_profit_kw'].sum().sort_values(ascending=False)\n",
    "df.rename(columns={'TOTAL':'KEYWORD'},inplace=True)\n",
    "print('\\n','high profit generated keyword',profit_kw)"
   ]
  },
  {
   "cell_type": "code",
   "execution_count": 13,
   "id": "12191443",
   "metadata": {},
   "outputs": [
    {
     "data": {
      "image/png": "[encoded data removed]",
      "text/plain": [
       "<Figure size 800x800 with 1 Axes>"
      ]
     },
     "metadata": {},
     "output_type": "display_data"
    }
   ],
   "source": [
    "# KEY WORD PERFOMANCE CHECKING\n",
    "df['high_profit_kw']=df['SALE_AMOUNT']-df['COST']\n",
    "\n",
    "profit_kw=df.groupby('KEYWORD')['high_profit_kw'].sum()\n",
    "\n",
    "plt.figure(figsize=(8,8))\n",
    "plt.pie(profit_kw,labels=profit_kw.index,autopct='%1.1f%%',startangle=140)\n",
    "plt.title('profit Distribution by keyword')\n",
    "plt.axis('equal')\n",
    "plt.show()"
   ]
  },
  {
   "cell_type": "markdown",
   "id": "f4c3625c",
   "metadata": {},
   "source": [
    "This pie chart shows profit distribution by keyword for data analytics-related terms.\n",
    "\n",
    "Key insights:\n",
    "\n",
    "\"learn data analytics\" generates the highest profit (17.4%)\n",
    "\n",
    "\"data analytics course\" is second highest (17.2%)\n",
    "\n",
    "\"online data analytics\" performs lowest (17.0%)\n",
    "\n",
    "All keywords perform fairly equally, ranging from 15.7% to 17.4%\n",
    "\n",
    "The profit is well-distributed across all 6 data analytics keywords\n",
    "\n",
    "Simple summary: All data analytics keywords generate similar profit shares (15-17% each), with \"learn data analytics\" and \"data analytics course\" being the top performers"
   ]
  },
  {
   "cell_type": "markdown",
   "id": "3e3fc17c",
   "metadata": {},
   "source": [
    "#### 2.DATE WITH HIGHEST PROFITABILITY\n",
    "\n",
    "##### Find which date generated highest profit"
   ]
  },
  {
   "cell_type": "code",
   "execution_count": 48,
   "id": "1801d004",
   "metadata": {},
   "outputs": [
    {
     "name": "stdout",
     "output_type": "stream",
     "text": [
      "\n",
      "Profit by date (top 10):\n",
      "AD_DATE\n",
      "2024-11-14    11844883.52\n",
      "2024-11-18    10713035.76\n",
      "2024-11-20    10135915.18\n",
      "2024-11-25     9823932.29\n",
      "2024-11-23     9697569.77\n",
      "2024-11-15     9562021.64\n",
      "2024-11-16     9443214.61\n",
      "2024-11-05     9397397.78\n",
      "2024-11-21     9362382.57\n",
      "2024-11-08     9118945.23\n",
      "Name: PROFIT, dtype: float64\n",
      "\n",
      "Highest profit date: 14-11-2024\n",
      "Profit amount: ₹11,844,883.52\n"
     ]
    }
   ],
   "source": [
    "profit_by_date = (df.dropna(subset=['AD_DATE'])\n",
    "                   .groupby('AD_DATE')['PROFIT']\n",
    "                   .sum()\n",
    "                   .sort_values(ascending=False))\n",
    "\n",
    "print(f\"\\nProfit by date (top 10):\")\n",
    "print(profit_by_date.head(10))\n",
    "\n",
    "if len(profit_by_date) > 0:\n",
    "    max_profit_date = profit_by_date.index[0]\n",
    "    max_profit = profit_by_date.iloc[0]\n",
    "    print(f\"\\nHighest profit date: {max_profit_date.strftime('%d-%m-%Y')}\")\n",
    "    print(f\"Profit amount: ₹{max_profit:,.2f}\")\n"
   ]
  },
  {
   "cell_type": "markdown",
   "id": "4df9c764",
   "metadata": {},
   "source": [
    "#### 3.WEEKEND VS WEEKDAY PERFOMANCE\n",
    "\n",
    "##### Does weekend days made profits than weekdays"
   ]
  },
  {
   "cell_type": "code",
   "execution_count": 51,
   "id": "cf5a4e6c",
   "metadata": {},
   "outputs": [
    {
     "name": "stdout",
     "output_type": "stream",
     "text": [
      "WEEK DAY TOTAL PROFIT :₹ 188315867.21\n",
      "WEEKEND DAY TOTAL PROFIT :₹ 75594215.44\n",
      "\n",
      "\n",
      "WEEK DAYS GENERATING MORE PROFIT\n"
     ]
    }
   ],
   "source": [
    "\n",
    "# CHECKING if weekend days made more profits than weekdays\n",
    "\n",
    "df['PROFIT'] = df['SALE_AMOUNT']-df['COST']\n",
    "df['DAY_OF_WEEK'] = pd.to_datetime(df['AD_DATE']).dt.dayofweek\n",
    "df['WEEKEND'] = df['DAY_OF_WEEK'].isin([5, 6])\n",
    "\n",
    "weekend_profit = df[df['WEEKEND']]['PROFIT'].sum()\n",
    "weekday_profit = df[~df['WEEKEND']]['PROFIT'].sum()\n",
    "\n",
    "print('WEEK DAY TOTAL PROFIT :₹', weekday_profit)\n",
    "print('WEEKEND DAY TOTAL PROFIT :₹', weekend_profit,)\n",
    "print('\\n')\n",
    "\n",
    "if weekday_profit > weekend_profit:\n",
    "    print('WEEK DAYS GENERATING MORE PROFIT')\n",
    "else:\n",
    "    print('WEEKEND DAY GENERATING MORE PROFIT')\n"
   ]
  },
  {
   "cell_type": "code",
   "execution_count": 52,
   "id": "630fa1cd",
   "metadata": {},
   "outputs": [
    {
     "data": {
      "image/png": "[encoded data removed]",
      "text/plain": [
       "<Figure size 800x600 with 1 Axes>"
      ]
     },
     "metadata": {},
     "output_type": "display_data"
    }
   ],
   "source": [
    "#prepare data for plotting\n",
    "categories = ['Weekdays','Weekends']\n",
    "profits=[weekday_profit,weekend_profit]\n",
    "\n",
    "#scatter plot\n",
    "plt.figure(figsize=(8,6))\n",
    "plt.scatter(categories,profits,color=['blue','orange'],s=200) #big points\n",
    "\n",
    "plt.title('Total profit: Weekdays vs Weekends')\n",
    "plt.xlabel('day type')\n",
    "plt.ylabel('Total profit (RS/-)')\n",
    "plt.grid(True)\n",
    "plt.show()"
   ]
  },
  {
   "cell_type": "markdown",
   "id": "81386eb5",
   "metadata": {},
   "source": [
    "This chart shows total profit is much higher on weekdays than on weekends. The blue point (weekdays) is far above the orange point (weekends), meaning your ads generate more profit during weekdays."
   ]
  },
  {
   "cell_type": "markdown",
   "id": "4fa2ff16",
   "metadata": {},
   "source": [
    "#### 4.DAILY CLICKS\n",
    "\n",
    "##### How many times did consumers click the ad in a single day"
   ]
  },
  {
   "cell_type": "code",
   "execution_count": 53,
   "id": "85e27328",
   "metadata": {},
   "outputs": [
    {
     "name": "stdout",
     "output_type": "stream",
     "text": [
      "CLICKS PER DAY!\n",
      "\n",
      "\n",
      "AD_DATE\n",
      "2024-11-14    15721.0\n",
      "2024-11-18    13734.0\n",
      "2024-11-25    13514.0\n",
      "2024-11-05    12792.0\n",
      "2024-11-20    12585.0\n",
      "2024-11-26    12544.0\n",
      "2024-11-21    12401.0\n",
      "2024-11-24    12381.0\n",
      "2024-11-22    12133.0\n",
      "2024-11-08    12002.0\n",
      "2024-11-13    11946.0\n",
      "2024-11-15    11855.0\n",
      "2024-11-04    11834.0\n",
      "2024-11-29    11509.0\n",
      "2024-11-23    11478.0\n",
      "2024-11-16    11422.0\n",
      "2024-11-07    10972.0\n",
      "2024-11-09    10876.0\n",
      "2024-11-19    10827.0\n",
      "2024-11-02    10785.0\n",
      "2024-11-12    10698.0\n",
      "2024-11-03    10689.0\n",
      "2024-11-27    10613.0\n",
      "2024-11-10    10567.0\n",
      "2024-11-06    10462.0\n",
      "2024-11-30    10355.0\n",
      "2024-11-01    10353.0\n",
      "2024-11-28     9974.0\n",
      "2024-11-11     9418.0\n",
      "2024-11-17     9285.0\n",
      "Name: CLICKS, dtype: float64\n",
      "\n",
      "AVARAGE CLICKS PER DAY= 132.97115384615384\n"
     ]
    }
   ],
   "source": [
    "#How many times did consumers click the ad in a single day\n",
    "# -------------------------------------------------------------- \n",
    "clicks_per_day=df.groupby('AD_DATE')['CLICKS'].sum().sort_values(ascending=False)\n",
    "print('CLICKS PER DAY!')\n",
    "print('\\n')\n",
    "print(clicks_per_day)\n",
    "\n",
    "#find the avrage clicks per day\n",
    "avg_clicks_perday=df['CLICKS'].mean()\n",
    "print('\\nAVARAGE CLICKS PER DAY=',avg_clicks_perday)"
   ]
  },
  {
   "cell_type": "markdown",
   "id": "3eab6ec1",
   "metadata": {},
   "source": [
    "#### 5.DAILY POTENTIAL CONSUMER & PROFITABILITY\n",
    "\n",
    "##### I .How many potential consumers(leads/convertion) got per day\n",
    "##### II.What was the avarage profit per day"
   ]
  },
  {
   "cell_type": "code",
   "execution_count": 54,
   "id": "ff7dd054",
   "metadata": {},
   "outputs": [
    {
     "name": "stdout",
     "output_type": "stream",
     "text": [
      "CONVERSIONS    16467.0\n",
      "LEADS          51050.0\n",
      "dtype: float64\n"
     ]
    }
   ],
   "source": [
    "\n",
    "#TO FIND HOW MANY POTENTIAL CONSUMERS GOT PER DAY\n",
    "\n",
    "potential_consumers_perday=df[['CONVERSIONS','LEADS']].sum()\n",
    "print(potential_consumers_perday)\n",
    "\n"
   ]
  },
  {
   "cell_type": "code",
   "execution_count": 56,
   "id": "67bd2a97",
   "metadata": {},
   "outputs": [
    {
     "name": "stdout",
     "output_type": "stream",
     "text": [
      "AVARAGE PROFIT PER DAY:₹ 107236.92915481511\n"
     ]
    }
   ],
   "source": [
    "#TO FIND THE AVARAGE PROFIT PER DAY\n",
    "\n",
    "avarage_profit_perday=df['PROFIT'].mean()\n",
    "print(\"AVARAGE PROFIT PER DAY:₹\",avarage_profit_perday)"
   ]
  },
  {
   "cell_type": "markdown",
   "id": "125b86ef",
   "metadata": {},
   "source": [
    "#### 6.COST ANALYSIS\n",
    "\n",
    "##### I .What was the avarage cost per day?\n",
    "##### II.What was the total cost of running the campign"
   ]
  },
  {
   "cell_type": "code",
   "execution_count": 57,
   "id": "2badc468",
   "metadata": {},
   "outputs": [
    {
     "name": "stdout",
     "output_type": "stream",
     "text": [
      "AVARAGE COST PER DAY : 17186.485342307693 Rs/-\n"
     ]
    }
   ],
   "source": [
    "#TO FIND THE AVARAGE COST PER DAY\n",
    "\n",
    "avg_cost_perday=df['COST'].mean()\n",
    "print('AVARAGE COST PER DAY :',avg_cost_perday,'Rs/-')"
   ]
  },
  {
   "cell_type": "code",
   "execution_count": 58,
   "id": "8ebf8d59",
   "metadata": {},
   "outputs": [
    {
     "name": "stdout",
     "output_type": "stream",
     "text": [
      "TOTAL COST TO RUN THIS CAMPIGN: 44684861.89 Rs/-\n"
     ]
    }
   ],
   "source": [
    "#TO FIND ..WHAT WAS THE TOTAL COST TO RUN THIS CAMPIGN\n",
    "\n",
    "total_cost=df['COST'].sum()\n",
    "print(\"TOTAL COST TO RUN THIS CAMPIGN:\",total_cost,\"Rs/-\")"
   ]
  },
  {
   "cell_type": "markdown",
   "id": "eb7f7153",
   "metadata": {},
   "source": [
    "#### 7.CPC (Cost Per Click)\n"
   ]
  },
  {
   "cell_type": "code",
   "execution_count": 59,
   "id": "8517a740",
   "metadata": {},
   "outputs": [
    {
     "name": "stdout",
     "output_type": "stream",
     "text": [
      "CPC : 0       185.058077\n",
      "1       104.033064\n",
      "2       187.819778\n",
      "3       138.913944\n",
      "4       104.228846\n",
      "           ...    \n",
      "2594    195.787778\n",
      "2595    228.316023\n",
      "2596    133.813247\n",
      "2597    171.325221\n",
      "2598     93.218316\n",
      "Length: 2488, dtype: float64\n",
      "\n",
      "\n",
      "AVARAGE COST PER CLICK : 132.38079720043058\n"
     ]
    }
   ],
   "source": [
    "filt_df=df[df['CLICKS']>0]\n",
    "cpc=filt_df['COST']/filt_df['CLICKS']\n",
    "print(\"CPC :\",cpc)\n",
    "avg_cpc=cpc.mean()\n",
    "print('\\n')\n",
    "print('AVARAGE COST PER CLICK :',avg_cpc)"
   ]
  },
  {
   "cell_type": "code",
   "execution_count": 60,
   "id": "4a053013",
   "metadata": {},
   "outputs": [
    {
     "data": {
      "image/png": "[encoded data removed]",
      "text/plain": [
       "<Figure size 1000x600 with 1 Axes>"
      ]
     },
     "metadata": {},
     "output_type": "display_data"
    }
   ],
   "source": [
    "plt.figure(figsize=(10,6))\n",
    "sns.histplot(cpc,bins=30,kde=True,color='yellow')\n",
    "plt.title('CPC (Cost Per Click)')\n",
    "plt.xlabel('CPC (RS/-)')\n",
    "plt.ylabel('Frequency')\n",
    "plt.show()"
   ]
  },
  {
   "cell_type": "markdown",
   "id": "bf674804",
   "metadata": {},
   "source": [
    "This chart shows the cost per click (CPC) on this ads is usually between Rs.100 and Rs.150, with most clicks in that price range. The distribution is right-skewed, meaning higher CPCs are less common.This histogram shows that most clicks have a cost (CPC) between Rs.100 and Rs.150. Costs lower than Rs.100 or above Rs.200 are much less frequent. The CPC distribution is mainly clustered in the middle range."
   ]
  },
  {
   "cell_type": "markdown",
   "id": "f74b727a",
   "metadata": {},
   "source": [
    "#### 8.CPL (Cost Per Lead)\n",
    "\n",
    "##### How much money spend on potential customers"
   ]
  },
  {
   "cell_type": "code",
   "execution_count": 61,
   "id": "85597004",
   "metadata": {},
   "outputs": [
    {
     "name": "stdout",
     "output_type": "stream",
     "text": [
      "CPL: 0       1374.717143\n",
      "1       1799.772000\n",
      "2        650.145385\n",
      "3       1160.340000\n",
      "4        541.990000\n",
      "           ...     \n",
      "2595    1181.871176\n",
      "2596    1471.945714\n",
      "2597    1075.541667\n",
      "2598    1141.924375\n",
      "2599       0.000000\n",
      "Length: 2552, dtype: float64\n",
      "AVARGE CPL : 954.6307922472575 RS/-\n"
     ]
    }
   ],
   "source": [
    "fil_df=df[df['LEADS']>0]\n",
    "cpl=fil_df['COST']/fil_df['LEADS']\n",
    "print(\"CPL:\",cpl)\n",
    "avg_cpl=cpl.mean()\n",
    "print('AVARGE CPL :',avg_cpl,'RS/-')\n"
   ]
  },
  {
   "cell_type": "code",
   "execution_count": 62,
   "id": "a07e9ba3",
   "metadata": {},
   "outputs": [
    {
     "data": {
      "image/png": "[encoded data removed]",
      "text/plain": [
       "<Figure size 1000x600 with 1 Axes>"
      ]
     },
     "metadata": {},
     "output_type": "display_data"
    }
   ],
   "source": [
    "plt.figure(figsize=(10,6))\n",
    "sns.histplot(cpl,bins=30,kde=True,color='green')\n",
    "plt.title('DISTRIBUTION OF CPL')\n",
    "plt.xlabel('CPL (RS/-)')\n",
    "plt.ylabel('FREQUENCY')\n",
    "plt.show()"
   ]
  },
  {
   "cell_type": "markdown",
   "id": "6f416786",
   "metadata": {},
   "source": [
    "This chart shows the distribution of CPL (Cost Per Lead) on the ads. Most leads cost between Rs.500 and Rs.1000, with fewer leads costing either very low or very high amounts. The distribution is right-skewed, meaning low CPLs are rare and high CPLs become less frequent, but exist. Overall, your leads mostly fall in a reasonable cost range"
   ]
  },
  {
   "cell_type": "markdown",
   "id": "5a789b7c",
   "metadata": {},
   "source": [
    "#### 9.CPA (Cost Per Acquisition)\n",
    "\n",
    "##### The average cost to get one new customer or lead"
   ]
  },
  {
   "cell_type": "code",
   "execution_count": 63,
   "id": "600319a5",
   "metadata": {},
   "outputs": [
    {
     "name": "stdout",
     "output_type": "stream",
     "text": [
      "CPA 0       2749.434286\n",
      "1       2249.715000\n",
      "2       1878.197778\n",
      "3       3287.630000\n",
      "4       2032.462500\n",
      "           ...     \n",
      "2595    2232.423333\n",
      "2596    3434.540000\n",
      "2597    4839.937500\n",
      "2598    2610.112857\n",
      "2599       0.000000\n",
      "Length: 2526, dtype: float64\n",
      "AVARAGE COST TO GET A NEW CUSTOMER :  3050.026132146313 RS/-\n"
     ]
    }
   ],
   "source": [
    "f_df=df[df['CONVERSIONS']>0]\n",
    "\n",
    "cpa=f_df['COST']/f_df['CONVERSIONS']\n",
    "print(\"CPA\",cpa)\n",
    "avg_cost_new_customers=cpa.mean()\n",
    "print('AVARAGE COST TO GET A NEW CUSTOMER : ',avg_cost_new_customers,'RS/-')"
   ]
  },
  {
   "cell_type": "code",
   "execution_count": null,
   "id": "ea5a77ee",
   "metadata": {},
   "outputs": [
    {
     "data": {
      "image/png": "[encoded data removed]",
      "text/plain": [
       "<Figure size 1200x600 with 1 Axes>"
      ]
     },
     "metadata": {},
     "output_type": "display_data"
    }
   ],
   "source": [
    "plt.figure(figsize=(12,6))\n",
    "sns.boxplot(x=cpa,color='red')\n",
    "plt.title('CPA')\n",
    "plt.xlabel('CPA (RS/-)')\n",
    "plt.show()"
   ]
  },
  {
   "cell_type": "markdown",
   "id": "4cf67eb1",
   "metadata": {},
   "source": [
    "This box plot shows the CPA (Cost Per Acquisition) values on the ads. Most of the CPA values fall between about Rs.2000 and Rs.4000, with a median around Rs.3000. There are some high outliers above Rs.6000, but most of the acquisition costs are clustered in the lower to middle range.This box plot shows that most of the CPA (Cost Per Acquisition) values range between about Rs.2000 and Rs.4000, with the average around Rs.3000. A few campaigns have much higher CPAs (above Rs.6000) that are outliers."
   ]
  },
  {
   "cell_type": "markdown",
   "id": "701edb62",
   "metadata": {},
   "source": [
    "#### 10.PROFIT ANALYSIS\n",
    "\n",
    "##### What was the total profit generated by this campign?"
   ]
  },
  {
   "cell_type": "code",
   "execution_count": 65,
   "id": "d8084a0c",
   "metadata": {},
   "outputs": [
    {
     "name": "stdout",
     "output_type": "stream",
     "text": [
      "TOTAL PROFIT : 263910082.64999998 Rs/-\n"
     ]
    }
   ],
   "source": [
    "#TO FIND THE Total profit generated by this campign\n",
    "\n",
    "total_profit=df['PROFIT'].sum()\n",
    "print('TOTAL PROFIT :',total_profit,'Rs/-')"
   ]
  },
  {
   "cell_type": "markdown",
   "id": "7baebb6a",
   "metadata": {},
   "source": [
    "#### 11.DEVICE PERFOMANCE\n",
    "\n",
    "##### Which device (mobile/desktop/tablet) perfomed the best in terms of conversion and profitability"
   ]
  },
  {
   "cell_type": "code",
   "execution_count": 25,
   "id": "2c16192d",
   "metadata": {},
   "outputs": [],
   "source": [
    "# print(df.columns)"
   ]
  },
  {
   "cell_type": "code",
   "execution_count": 66,
   "id": "e7f2443b",
   "metadata": {},
   "outputs": [
    {
     "name": "stdout",
     "output_type": "stream",
     "text": [
      "More profit generated device:  desktop\n"
     ]
    }
   ],
   "source": [
    "device_perfomance=df.groupby('DEVICE').agg({'CONVERSIONS':'sum','PROFIT':'sum'})\n",
    "\n",
    "best_device_profit=device_perfomance['PROFIT'].idxmax() #idxmax() returns index label(unique identity of a row) of max value\n",
    "\n",
    "print(\"More profit generated device: \",best_device_profit)\n"
   ]
  },
  {
   "cell_type": "code",
   "execution_count": 67,
   "id": "2e0aa19b",
   "metadata": {},
   "outputs": [
    {
     "data": {
      "image/png": "[encoded data removed]",
      "text/plain": [
       "<Figure size 1000x600 with 1 Axes>"
      ]
     },
     "metadata": {},
     "output_type": "display_data"
    }
   ],
   "source": [
    "#barplot for DEVICE PERFOMANCE\n",
    "\n",
    "device_perfomance_reset=device_perfomance.reset_index()\n",
    "\n",
    "plt.figure(figsize=(10,6))\n",
    "sns.barplot(data=device_perfomance_reset,x='DEVICE',y='PROFIT',palette='viridis')\n",
    "\n",
    "plt.title('TOTAL PROFIT BY DEVICE')\n",
    "plt.xlabel('DEVICE')\n",
    "plt.ylabel('TOTAL PROFIT')\n",
    "plt.show()"
   ]
  },
  {
   "cell_type": "markdown",
   "id": "9ccd9aef",
   "metadata": {},
   "source": [
    "This bar chart shows total profit by device type. Desktop has the highest profit, followed closely by mobile, with tablet having the lowest—though all three device types generate high and similar profits"
   ]
  },
  {
   "cell_type": "markdown",
   "id": "b87cc587",
   "metadata": {},
   "source": [
    "#### 12.CTR (Click Through Rate)\n",
    "\n",
    "##### The percentage of people who click on an ad or link after seeing it.\n",
    "\n"
   ]
  },
  {
   "cell_type": "code",
   "execution_count": 68,
   "id": "a4bf8d0a",
   "metadata": {},
   "outputs": [
    {
     "name": "stdout",
     "output_type": "stream",
     "text": [
      "CTR\n",
      " 0       2.312139\n",
      "1       3.387507\n",
      "2       1.980634\n",
      "3       4.458399\n",
      "4       4.641476\n",
      "          ...   \n",
      "2595    1.646707\n",
      "2596    4.796014\n",
      "2597    2.967437\n",
      "2598    3.348710\n",
      "2599    0.000000\n",
      "Length: 2546, dtype: float64\n",
      "\n",
      "\n",
      "AVARAGE CTR : 3.053207367139558 %\n"
     ]
    }
   ],
   "source": [
    "# Filter out rows where impressions are zero\n",
    "filtered_df = df[df['IMPRESSIONS'] > 0]\n",
    "\n",
    "ctr=filtered_df['CLICKS']/filtered_df['IMPRESSIONS']*100\n",
    "print('CTR\\n',ctr)\n",
    "print('\\n')\n",
    "avg_ctr=ctr.mean()\n",
    "print('AVARAGE CTR :',avg_ctr,\"%\")"
   ]
  },
  {
   "cell_type": "code",
   "execution_count": 69,
   "id": "b5b0a68d",
   "metadata": {},
   "outputs": [
    {
     "data": {
      "image/png": "[encoded data removed]",
      "text/plain": [
       "<Figure size 1200x600 with 1 Axes>"
      ]
     },
     "metadata": {},
     "output_type": "display_data"
    },
    {
     "name": "stdout",
     "output_type": "stream",
     "text": [
      "AVARAGE CTR: 3.053207367139558\n"
     ]
    }
   ],
   "source": [
    "#CREATING BAR DIAGRAM for CTR\n",
    "\n",
    "import matplotlib.pyplot as plt\n",
    "plt.figure(figsize=(12,6))\n",
    "plt.bar(filtered_df.index,ctr,color='skyblue')\n",
    "plt.title('CTR')\n",
    "plt.xlabel('Row index')\n",
    "plt.ylabel('CTR (%)')\n",
    "plt.show()\n",
    "#print average CTR\n",
    "print('AVARAGE CTR:',avg_ctr)"
   ]
  },
  {
   "cell_type": "markdown",
   "id": "b8b992eb",
   "metadata": {},
   "source": [
    "This chart shows the Click-Through Rate (CTR) for each row in the dataset. The CTR values mostly fall between 1% and 6%, with a lot of quick spikes and drops—meaning your ad engagement changes frequently across campaigns.This chart displays the Click-Through Rate (CTR) for each ad entry in your dataset. Most CTR values are between 1% and 6%, showing lots of variation across different ads. Each ad gets a different level of engagement."
   ]
  },
  {
   "cell_type": "markdown",
   "id": "bab84702",
   "metadata": {},
   "source": [
    "### CONCLUSION"
   ]
  },
  {
   "cell_type": "markdown",
   "id": "3cae22a2",
   "metadata": {},
   "source": [
    "##### The analysis of the Google Ads campaign data reveals valuable insights into the campaign’s performance and profitability. The average Click-Through Rate (CTR) across the dataset is approximately 3.05%, indicating a healthy engagement level with the ads. Desktop devices have emerged as the most profitable, contributing the highest total profit of around ₹263.91 million, highlighting the importance of device-specific strategy optimization.\n",
    "\n",
    "##### Cost-efficiency metrics show that the average Cost Per Acquisition (CPA) is ₹3,050, while the average Cost Per Lead (CPL) and Cost Per Click (CPC) are ₹955 and ₹132 respectively. These figures provide an actionable benchmark for evaluating future campaigns and optimizing marketing spend.\n",
    "\n",
    "##### Daily performance metrics highlight an average of 133 clicks generating a profit of approximately ₹107,237 per day, with a total campaign cost just under ₹44.7 million. The fact that weekdays generate all the recorded profit underlines the importance of scheduling and budget allocation towards these high-performing days.\n",
    "\n",
    "##### Keyword-level analysis points to “learn data analytics,” “data analytics course,” and related keywords as top revenue generators, each contributing tens of millions in profit. These results underscore the value of targeted, data-driven keyword strategies to maximize return on investment.\n",
    "\n",
    "##### Overall, the campaign demonstrates effective engagement and profitability, with clear opportunities to refine focus on desktop devices, weekday timing, and high-performing keywords to further improve ROI and reduce acquisition costs."
   ]
  }
 ],
 "metadata": {
  "kernelspec": {
   "display_name": "base",
   "language": "python",
   "name": "python3"
  },
  "language_info": {
   "codemirror_mode": {
    "name": "ipython",
    "version": 3
   },
   "file_extension": ".py",
   "mimetype": "text/x-python",
   "name": "python",
   "nbconvert_exporter": "python",
   "pygments_lexer": "ipython3",
   "version": "3.10.9"
  }
 },
 "nbformat": 4,
 "nbformat_minor": 5
}
